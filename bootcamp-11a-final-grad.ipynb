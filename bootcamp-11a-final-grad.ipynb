{
 "cells": [
  {
   "cell_type": "markdown",
   "metadata": {},
   "source": [
    "<img style=\"float: left;\" src=\"earth-lab-logo-rgb.png\" width=\"150\" height=\"150\" />\n",
    "\n",
    "# Earth Analytics Education"
   ]
  },
  {
   "cell_type": "markdown",
   "metadata": {},
   "source": [
    "## Important  - Assignment Guidelines\n",
    "\n",
    "1. Before you submit your assignment to GitHub, make sure to run the entire notebook with a fresh kernel. To do this first, **restart the kernel** (in the menubar, select Kernel$\\rightarrow$Restart & Run All)\n",
    "2. Always replace the `raise NotImplementedError()` code with your code that addresses the activity challenge. If you don't replace that code, your notebook will not run.\n",
    "\n",
    "```\n",
    "# YOUR CODE HERE\n",
    "raise NotImplementedError()\n",
    "```\n",
    "\n",
    "3. Any open ended questions will have a \"YOUR ANSWER HERE\" within a markdown cell. Replace that text with your answer also formatted using Markdown.\n",
    "4. **DO NOT RENAME THIS NOTEBOOK File!** If the file name changes, the autograder will not grade your assignment properly.\n",
    "\n",
    "* Only include the package imports, code, and outputs that are required to run your homework assignment.\n",
    "* Be sure that your code can be run on any operating system. This means that:\n",
    "   1. the data should be downloaded in the notebook to ensure it's reproducible\n",
    "   2. all paths should be created dynamically using the `os.path.join`\n",
    "   3. sort lists of dated files even if they are sorted correctly by default on your machine\n",
    "\n",
    "## Follow to PEP 8 Syntax Guidelines & Documentation\n",
    "\n",
    "* Run the `autopep8` tool on all cells prior to submitting (HINT: hit shift + the tool to run it on all cells at once!\n",
    "* Use clear and expressive names for variables. \n",
    "* Organize your code to support readability.\n",
    "* Check for code line length\n",
    "* Use comments and white space sparingly where it is needed\n",
    "* Make sure all python imports are at the top of your notebook and follow PEP 8 order conventions\n",
    "* Spell check your Notebook before submitting it.\n",
    "\n",
    "For all of the plots below, be sure to do the following:\n",
    "\n",
    "* Make sure each plot has a clear TITLE and, where appropriate, label the x and y axes. Be sure to include UNITS in your labels.\n"
   ]
  },
  {
   "cell_type": "markdown",
   "metadata": {},
   "source": [
    "### Add Your Name Below \n",
    "**Your Name:**"
   ]
  },
  {
   "cell_type": "markdown",
   "metadata": {},
   "source": [
    "<img style=\"float: left;\" src=\"colored-bar.png\"/>"
   ]
  },
  {
   "cell_type": "markdown",
   "metadata": {},
   "source": [
    "---"
   ]
  },
  {
   "cell_type": "markdown",
   "metadata": {},
   "source": [
    "# Colorado precipitation and stream discharge\n",
    "\n",
    "\n",
    "\n",
    "## Data\n",
    "\n",
    "You will need stream discharge data for January 1, 1990 through December 31, 2018 for four U.S. Geological Survey (USGS) stream gages across Colorado:\n",
    "        1. site `06730500` for the [Boulder Creek Station near Longmont, CO](https://waterdata.usgs.gov/nwis/inventory/?site_no=06730500) in Weld County (Northern Colorado)\n",
    "        2. site `09105000` for the [Plateau Creek Station near Cameo, CO](https://waterdata.usgs.gov/nwis/inventory/?site_no=09105000) in Mesa County (Western Colorado)\n",
    "        3. site `07106300` for the [Fountain Creek Station near Pinon, CO](https://waterdata.usgs.gov/nwis/inventory/?site_no=07106300) in Pueblo County (Central Colorado)\n",
    "        4. site `07126390` for the [Lockwood Canyon Creek Station near Thatcher, CO](https://waterdata.usgs.gov/co/nwis/inventory/?site_no=07126390) in Las Animas County (Southeastern Colorado)\n",
    "        \n",
    "> Use [the hydrofunctions package](https://hydrofunctions.readthedocs.io/en/master/usage.html) to download data directly from the USGS National Water Information System (NWIS) as a `DataFrame`. \n",
    "\n",
    "\n",
    "## Figures\n",
    "\n",
    "In your final assignment notebook, create two figures:\n",
    "1. Figure 1: Stream Discharge Data - 2013 Colorado Floods\n",
    "   * Subplot 1: Compare daily mean discharge (cfs) for August 1st, 2013 to October 31st, 2013 for each site\n",
    "   * Subplot 2: Compare annual maximum of mean discharge (cfs) for 1990-2018 for each site\n",
    "   \n",
    "     > Review [map of Colorado counties](https://geology.com/county-map/colorado.shtml) as well as the wikipedia entries on the [2013 Colorado Floods](https://en.wikipedia.org/wiki/2013_Colorado_floods) and other events that have occurred at [Fountain Creek](https://en.wikipedia.org/wiki/Fountain_Creek_(Arkansas_River_tributary)) to  help you describe / interpret patterns seen in the stream discharge data plots.\n",
    "\n",
    "3. Figure 2: Interactive Map with Stream Gage Locations\n",
    "   * Your map show display the locations of all four stream gages, and display a pop-up (Marker) with the name of the gage when clicked on.\n",
    "\n",
    "> Use the [folium library](https://python-visualization.github.io/folium/) to create your interactive map.\n",
    "\n",
    "## Reproducibility requirements\n",
    "\n",
    "### Clean Code\n",
    "\n",
    "   * **You must write at least one function or class to produce Figure 1.**\n",
    "   * Your code should be clear, concise, DRY, and easy to follow.\n",
    "   * Use code that is reproducible across different computers.\n",
    "   * Follow PEP 8 and numpy docstring style guidelines.\n",
    "\n",
    "### Use Markdown to structure and explain your code\n",
    "\n",
    "   * Include a **headline and 2-3 sentence description** for each figure.\n",
    "   * For each data source, **cite and describe your data**.\n",
    "   * Organize your code into **sections** to make it easier to navigate.\n",
    "   \n",
    "   > **Note that there are no read-only cells in this assignment, and you should replace the instructions with your own explanation. HOWEVER - please do not delete any cells as I will not be able to assign points to you! Modify existing cells and/or create new ones.**"
   ]
  },
  {
   "cell_type": "markdown",
   "metadata": {
    "deletable": false,
    "nbgrader": {
     "cell_type": "markdown",
     "checksum": "24fd843d90af7f9b5fe7616377b6de5d",
     "grade": true,
     "grade_id": "ans-setup",
     "locked": false,
     "points": 10,
     "schema_version": 3,
     "solution": true,
     "task": false
    }
   },
   "source": [
    "YOUR ANSWER HERE"
   ]
  },
  {
   "cell_type": "code",
   "execution_count": null,
   "metadata": {
    "deletable": false,
    "hideCode": false,
    "hidePrompt": false,
    "nbgrader": {
     "cell_type": "code",
     "checksum": "f9b27741022bd7b0667082101e71ef9f",
     "grade": false,
     "grade_id": "core-imports",
     "locked": false,
     "schema_version": 3,
     "solution": true,
     "task": false
    }
   },
   "outputs": [],
   "source": [
    "# YOUR CODE HERE\n",
    "raise NotImplementedError()\n",
    "\n",
    "# There is a bug in hydrofunctions that turns off plotting in Jupyter\n",
    "%matplotlib inline\n",
    "\n",
    "# Prettier plotting with seaborn\n",
    "sns.set(font_scale=1.5, style=\"whitegrid\")\n"
   ]
  },
  {
   "cell_type": "markdown",
   "metadata": {
    "deletable": false,
    "nbgrader": {
     "cell_type": "markdown",
     "checksum": "08ebec6cafceb4a9a3349bd0b3e4404d",
     "grade": true,
     "grade_id": "function-2-points",
     "locked": false,
     "points": 30,
     "schema_version": 3,
     "solution": true,
     "task": false
    }
   },
   "source": [
    "YOUR ANSWER HERE"
   ]
  },
  {
   "cell_type": "code",
   "execution_count": null,
   "metadata": {
    "deletable": false,
    "nbgrader": {
     "cell_type": "code",
     "checksum": "f3ee6f672c6bc524c74b0a91a436c6bc",
     "grade": false,
     "grade_id": "hydrofunctions-function",
     "locked": false,
     "schema_version": 3,
     "solution": true,
     "task": false
    }
   },
   "outputs": [],
   "source": [
    "# YOUR CODE HERE\n",
    "raise NotImplementedError()"
   ]
  },
  {
   "cell_type": "markdown",
   "metadata": {
    "deletable": false,
    "nbgrader": {
     "cell_type": "markdown",
     "checksum": "02a0de7443102c8891084f3cb5b9d0d2",
     "grade": true,
     "grade_id": "task-discharge",
     "locked": false,
     "points": 30,
     "schema_version": 3,
     "solution": true,
     "task": false
    }
   },
   "source": [
    "YOUR ANSWER HERE"
   ]
  },
  {
   "cell_type": "code",
   "execution_count": null,
   "metadata": {
    "deletable": false,
    "nbgrader": {
     "cell_type": "code",
     "checksum": "d3cc524d328cce32f66e909f1979a1e3",
     "grade": false,
     "grade_id": "plot-data-discharge",
     "locked": false,
     "schema_version": 3,
     "solution": true,
     "task": false
    }
   },
   "outputs": [],
   "source": [
    "# YOUR CODE HERE\n",
    "raise NotImplementedError()"
   ]
  },
  {
   "cell_type": "markdown",
   "metadata": {
    "deletable": false,
    "nbgrader": {
     "cell_type": "markdown",
     "checksum": "e3b8b5c61da1cff72ed83859388f4bd3",
     "grade": true,
     "grade_id": "task-explain-fig1",
     "locked": false,
     "points": 20,
     "schema_version": 3,
     "solution": true,
     "task": false
    }
   },
   "source": [
    "YOUR ANSWER HERE"
   ]
  },
  {
   "cell_type": "markdown",
   "metadata": {
    "deletable": false,
    "nbgrader": {
     "cell_type": "markdown",
     "checksum": "3d13bd66a5e491331d286dafc9649093",
     "grade": true,
     "grade_id": "folium-instructions",
     "locked": false,
     "points": 30,
     "schema_version": 3,
     "solution": true,
     "task": false
    }
   },
   "source": [
    "YOUR ANSWER HERE"
   ]
  },
  {
   "cell_type": "code",
   "execution_count": null,
   "metadata": {
    "deletable": false,
    "nbgrader": {
     "cell_type": "code",
     "checksum": "ddf61dacdd706632fe55eb2edba4212c",
     "grade": false,
     "grade_id": "folium-solution",
     "locked": false,
     "schema_version": 3,
     "solution": true,
     "task": false
    }
   },
   "outputs": [],
   "source": [
    "# YOUR CODE HERE\n",
    "raise NotImplementedError()"
   ]
  },
  {
   "cell_type": "markdown",
   "metadata": {
    "deletable": false,
    "editable": false,
    "nbgrader": {
     "cell_type": "markdown",
     "checksum": "837a750003c9ea33c1eb3af9c1a23144",
     "grade": false,
     "grade_id": "requirements",
     "locked": true,
     "points": 10,
     "schema_version": 3,
     "solution": false,
     "task": true
    }
   },
   "source": [
    "## Clean Code Requirements\n",
    "Clear, concise, DRY, and easy-to-follow code."
   ]
  },
  {
   "cell_type": "markdown",
   "metadata": {
    "deletable": false,
    "editable": false,
    "nbgrader": {
     "cell_type": "markdown",
     "checksum": "a448e754d67ccbf3bd822e6c4b48c85a",
     "grade": false,
     "grade_id": "task-organize",
     "locked": true,
     "points": 10,
     "schema_version": 3,
     "solution": false,
     "task": true
    }
   },
   "source": [
    "### Markdown Cells Are Used to Organization Code\n",
    "Divide code into sections."
   ]
  },
  {
   "cell_type": "markdown",
   "metadata": {
    "deletable": false,
    "editable": false,
    "nbgrader": {
     "cell_type": "markdown",
     "checksum": "976e721befc30a0c03f2de2ee746a2d9",
     "grade": false,
     "grade_id": "pep-8-grade",
     "locked": true,
     "points": 10,
     "schema_version": 3,
     "solution": false,
     "task": true
    }
   },
   "source": [
    "### Pep 8 and pydocstyle\n",
    "This grade will be based on your score on flake8 and pydocstyle tests."
   ]
  },
  {
   "cell_type": "markdown",
   "metadata": {
    "deletable": false,
    "editable": false,
    "nbgrader": {
     "cell_type": "markdown",
     "checksum": "ca340153442f34460f36a6a11aeeda56",
     "grade": false,
     "grade_id": "cell-b8ebeae9a0eb84c0",
     "locked": true,
     "points": 10,
     "schema_version": 3,
     "solution": false,
     "task": true
    }
   },
   "source": [
    "## Reproducible code\n",
    "Does the notebook run top to bottom?"
   ]
  }
 ],
 "metadata": {
  "kernelspec": {
   "display_name": "Python 3 (ipykernel)",
   "language": "python",
   "name": "python3"
  },
  "language_info": {
   "codemirror_mode": {
    "name": "ipython",
    "version": 3
   },
   "file_extension": ".py",
   "mimetype": "text/x-python",
   "name": "python",
   "nbconvert_exporter": "python",
   "pygments_lexer": "ipython3",
   "version": "3.8.12"
  },
  "toc": {
   "base_numbering": 1,
   "nav_menu": {},
   "number_sections": true,
   "sideBar": true,
   "skip_h1_title": true,
   "title_cell": "Table of Contents",
   "title_sidebar": "Contents",
   "toc_cell": false,
   "toc_position": {},
   "toc_section_display": true,
   "toc_window_display": true
  },
  "varInspector": {
   "cols": {
    "lenName": 16,
    "lenType": 16,
    "lenVar": 40
   },
   "kernels_config": {
    "python": {
     "delete_cmd_postfix": "",
     "delete_cmd_prefix": "del ",
     "library": "var_list.py",
     "varRefreshCmd": "print(var_dic_list())"
    },
    "r": {
     "delete_cmd_postfix": ") ",
     "delete_cmd_prefix": "rm(",
     "library": "var_list.r",
     "varRefreshCmd": "cat(var_dic_list()) "
    }
   },
   "types_to_exclude": [
    "module",
    "function",
    "builtin_function_or_method",
    "instance",
    "_Feature"
   ],
   "window_display": false
  }
 },
 "nbformat": 4,
 "nbformat_minor": 2
}
